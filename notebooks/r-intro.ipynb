{
 "cells": [
  {
   "cell_type": "markdown",
   "source": [
    "[![Open In Colab](https://colab.research.google.com/assets/colab-badge.svg)](https://colab.research.google.com/github/nilsjennissen/r-handbook/blob/main/notebooks/r_intro.ipynb)"
   ],
   "metadata": {
    "collapsed": false
   }
  },
  {
   "cell_type": "markdown",
   "source": [
    "# R Introduction"
   ],
   "metadata": {
    "collapsed": false
   }
  },
  {
   "cell_type": "markdown",
   "source": [
    "## R Basic Calculations in R"
   ],
   "metadata": {
    "collapsed": false
   }
  },
  {
   "cell_type": "code",
   "execution_count": 4,
   "outputs": [
    {
     "data": {
      "text/html": "276",
      "text/markdown": "276",
      "text/latex": "276",
      "text/plain": "[1] 276"
     },
     "metadata": {},
     "output_type": "display_data"
    },
    {
     "data": {
      "text/html": "-1410",
      "text/markdown": "-1410",
      "text/latex": "-1410",
      "text/plain": "[1] -1410"
     },
     "metadata": {},
     "output_type": "display_data"
    },
    {
     "data": {
      "text/html": "1035",
      "text/markdown": "1035",
      "text/latex": "1035",
      "text/plain": "[1] 1035"
     },
     "metadata": {},
     "output_type": "display_data"
    },
    {
     "data": {
      "text/html": "5",
      "text/markdown": "5",
      "text/latex": "5",
      "text/plain": "[1] 5"
     },
     "metadata": {},
     "output_type": "display_data"
    }
   ],
   "source": [
    "# Addition\n",
    "134 + 142\n",
    "\n",
    "# Subtraction\n",
    "2 - 1412\n",
    "\n",
    "# Multiplication\n",
    "23 * 45\n",
    "\n",
    "# Division\n",
    "10 / 2"
   ],
   "metadata": {
    "collapsed": false,
    "ExecuteTime": {
     "end_time": "2023-05-10T08:50:28.074848Z",
     "start_time": "2023-05-10T08:50:28.062418Z"
    }
   }
  },
  {
   "cell_type": "markdown",
   "source": [
    "Other operators are:"
   ],
   "metadata": {
    "collapsed": false
   }
  },
  {
   "cell_type": "code",
   "execution_count": 6,
   "metadata": {
    "collapsed": true,
    "ExecuteTime": {
     "end_time": "2023-05-10T08:56:21.087573Z",
     "start_time": "2023-05-10T08:56:21.074384Z"
    }
   },
   "outputs": [
    {
     "data": {
      "text/html": "8",
      "text/markdown": "8",
      "text/latex": "8",
      "text/plain": "[1] 8"
     },
     "metadata": {},
     "output_type": "display_data"
    },
    {
     "data": {
      "text/html": "1",
      "text/markdown": "1",
      "text/latex": "1",
      "text/plain": "[1] 1"
     },
     "metadata": {},
     "output_type": "display_data"
    },
    {
     "data": {
      "text/html": "3",
      "text/markdown": "3",
      "text/latex": "3",
      "text/plain": "[1] 3"
     },
     "metadata": {},
     "output_type": "display_data"
    }
   ],
   "source": [
    "# Exponentiation (power)\n",
    "2 ^ 3\n",
    "\n",
    "# Modulo (remainder)\n",
    "10 %% 3\n",
    "\n",
    "# Integer division\n",
    "10 %/% 3\n"
   ]
  },
  {
   "cell_type": "markdown",
   "source": [
    "## R Variables"
   ],
   "metadata": {
    "collapsed": false
   }
  },
  {
   "cell_type": "code",
   "execution_count": 7,
   "outputs": [
    {
     "data": {
      "text/html": "10",
      "text/markdown": "10",
      "text/latex": "10",
      "text/plain": "[1] 10"
     },
     "metadata": {},
     "output_type": "display_data"
    }
   ],
   "source": [
    "# Assigning a value to a variable\n",
    "x <- 10\n",
    "\n",
    "# Printing the value of a variable\n",
    "x"
   ],
   "metadata": {
    "collapsed": false,
    "ExecuteTime": {
     "end_time": "2023-05-10T08:56:58.822701Z",
     "start_time": "2023-05-10T08:56:58.797128Z"
    }
   }
  },
  {
   "cell_type": "markdown",
   "source": [
    "Variable types in R are:"
   ],
   "metadata": {
    "collapsed": false
   }
  },
  {
   "cell_type": "code",
   "execution_count": 9,
   "outputs": [
    {
     "data": {
      "text/html": "TRUE",
      "text/markdown": "TRUE",
      "text/latex": "TRUE",
      "text/plain": "[1] TRUE"
     },
     "metadata": {},
     "output_type": "display_data"
    }
   ],
   "source": [
    "# Integer\n",
    "x <- 10\n",
    "\n",
    "# Double\n",
    "y <- 10.5\n",
    "\n",
    "# Character\n",
    "y <- \"Hello World\"\n",
    "\n",
    "# Logical\n",
    "z <- TRUE\n",
    "\n",
    "z"
   ],
   "metadata": {
    "collapsed": false,
    "ExecuteTime": {
     "end_time": "2023-05-10T08:58:52.119616Z",
     "start_time": "2023-05-10T08:58:52.091267Z"
    }
   }
  },
  {
   "cell_type": "code",
   "execution_count": 10,
   "outputs": [
    {
     "data": {
      "text/html": "'numeric'",
      "text/markdown": "'numeric'",
      "text/latex": "'numeric'",
      "text/plain": "[1] \"numeric\""
     },
     "metadata": {},
     "output_type": "display_data"
    }
   ],
   "source": [
    "# Checking the type of a variable\n",
    "class(x)"
   ],
   "metadata": {
    "collapsed": false,
    "ExecuteTime": {
     "end_time": "2023-05-10T09:00:05.087257Z",
     "start_time": "2023-05-10T09:00:05.057878Z"
    }
   }
  },
  {
   "cell_type": "markdown",
   "source": [
    "## R Vectors and other data structures"
   ],
   "metadata": {
    "collapsed": false
   }
  },
  {
   "cell_type": "code",
   "execution_count": 12,
   "outputs": [
    {
     "data": {
      "text/html": "<style>\n.list-inline {list-style: none; margin:0; padding: 0}\n.list-inline>li {display: inline-block}\n.list-inline>li:not(:last-child)::after {content: \"\\00b7\"; padding: 0 .5ex}\n</style>\n<ol class=list-inline><li>12</li><li>23</li><li>34</li><li>45</li><li>56</li></ol>\n",
      "text/markdown": "1. 12\n2. 23\n3. 34\n4. 45\n5. 56\n\n\n",
      "text/latex": "\\begin{enumerate*}\n\\item 12\n\\item 23\n\\item 34\n\\item 45\n\\item 56\n\\end{enumerate*}\n",
      "text/plain": "[1] 12 23 34 45 56"
     },
     "metadata": {},
     "output_type": "display_data"
    }
   ],
   "source": [
    "# Sample cases\n",
    "vec <- c(12, 23, 34, 45, 56)\n",
    "\n",
    "vec"
   ],
   "metadata": {
    "collapsed": false,
    "ExecuteTime": {
     "end_time": "2023-05-10T09:02:23.338747Z",
     "start_time": "2023-05-10T09:02:23.311687Z"
    }
   }
  },
  {
   "cell_type": "code",
   "execution_count": 13,
   "outputs": [
    {
     "data": {
      "text/html": "<table class=\"dataframe\">\n<caption>A matrix: 2 × 3 of type dbl</caption>\n<tbody>\n\t<tr><td>1</td><td>3</td><td>5</td></tr>\n\t<tr><td>2</td><td>4</td><td>6</td></tr>\n</tbody>\n</table>\n",
      "text/markdown": "\nA matrix: 2 × 3 of type dbl\n\n| 1 | 3 | 5 |\n| 2 | 4 | 6 |\n\n",
      "text/latex": "A matrix: 2 × 3 of type dbl\n\\begin{tabular}{lll}\n\t 1 & 3 & 5\\\\\n\t 2 & 4 & 6\\\\\n\\end{tabular}\n",
      "text/plain": "     [,1] [,2] [,3]\n[1,] 1    3    5   \n[2,] 2    4    6   "
     },
     "metadata": {},
     "output_type": "display_data"
    }
   ],
   "source": [
    "# Other data structures\n",
    "# Matrices\n",
    "mat <- matrix(c(1, 2, 3, 4, 5, 6), nrow = 2, ncol = 3)\n",
    "\n",
    "mat"
   ],
   "metadata": {
    "collapsed": false,
    "ExecuteTime": {
     "end_time": "2023-05-10T09:04:03.381517Z",
     "start_time": "2023-05-10T09:04:03.341407Z"
    }
   }
  },
  {
   "cell_type": "code",
   "execution_count": 14,
   "outputs": [
    {
     "data": {
      "text/html": "<table class=\"dataframe\">\n<caption>A data.frame: 3 × 3</caption>\n<thead>\n\t<tr><th scope=col>name</th><th scope=col>age</th><th scope=col>married</th></tr>\n\t<tr><th scope=col>&lt;chr&gt;</th><th scope=col>&lt;dbl&gt;</th><th scope=col>&lt;lgl&gt;</th></tr>\n</thead>\n<tbody>\n\t<tr><td>John</td><td>23</td><td> TRUE</td></tr>\n\t<tr><td>Jane</td><td>34</td><td>FALSE</td></tr>\n\t<tr><td>Joe </td><td>45</td><td> TRUE</td></tr>\n</tbody>\n</table>\n",
      "text/markdown": "\nA data.frame: 3 × 3\n\n| name &lt;chr&gt; | age &lt;dbl&gt; | married &lt;lgl&gt; |\n|---|---|---|\n| John | 23 |  TRUE |\n| Jane | 34 | FALSE |\n| Joe  | 45 |  TRUE |\n\n",
      "text/latex": "A data.frame: 3 × 3\n\\begin{tabular}{lll}\n name & age & married\\\\\n <chr> & <dbl> & <lgl>\\\\\n\\hline\n\t John & 23 &  TRUE\\\\\n\t Jane & 34 & FALSE\\\\\n\t Joe  & 45 &  TRUE\\\\\n\\end{tabular}\n",
      "text/plain": "  name age married\n1 John 23   TRUE  \n2 Jane 34  FALSE  \n3 Joe  45   TRUE  "
     },
     "metadata": {},
     "output_type": "display_data"
    }
   ],
   "source": [
    "# Data frames\n",
    "df <- data.frame(\n",
    "    name = c(\"John\", \"Jane\", \"Joe\"),\n",
    "    age = c(23, 34, 45),\n",
    "    married = c(TRUE, FALSE, TRUE)\n",
    ")\n",
    "\n",
    "df"
   ],
   "metadata": {
    "collapsed": false,
    "ExecuteTime": {
     "end_time": "2023-05-10T09:04:21.844513Z",
     "start_time": "2023-05-10T09:04:21.804174Z"
    }
   }
  },
  {
   "cell_type": "code",
   "execution_count": 15,
   "outputs": [
    {
     "data": {
      "text/html": "<dl>\n\t<dt>$name</dt>\n\t\t<dd><style>\n.list-inline {list-style: none; margin:0; padding: 0}\n.list-inline>li {display: inline-block}\n.list-inline>li:not(:last-child)::after {content: \"\\00b7\"; padding: 0 .5ex}\n</style>\n<ol class=list-inline><li>'John'</li><li>'Jane'</li><li>'Joe'</li></ol>\n</dd>\n\t<dt>$age</dt>\n\t\t<dd><style>\n.list-inline {list-style: none; margin:0; padding: 0}\n.list-inline>li {display: inline-block}\n.list-inline>li:not(:last-child)::after {content: \"\\00b7\"; padding: 0 .5ex}\n</style>\n<ol class=list-inline><li>23</li><li>34</li><li>45</li></ol>\n</dd>\n\t<dt>$married</dt>\n\t\t<dd><style>\n.list-inline {list-style: none; margin:0; padding: 0}\n.list-inline>li {display: inline-block}\n.list-inline>li:not(:last-child)::after {content: \"\\00b7\"; padding: 0 .5ex}\n</style>\n<ol class=list-inline><li>TRUE</li><li>FALSE</li><li>TRUE</li></ol>\n</dd>\n</dl>\n",
      "text/markdown": "$name\n:   1. 'John'\n2. 'Jane'\n3. 'Joe'\n\n\n\n$age\n:   1. 23\n2. 34\n3. 45\n\n\n\n$married\n:   1. TRUE\n2. FALSE\n3. TRUE\n\n\n\n\n\n",
      "text/latex": "\\begin{description}\n\\item[\\$name] \\begin{enumerate*}\n\\item 'John'\n\\item 'Jane'\n\\item 'Joe'\n\\end{enumerate*}\n\n\\item[\\$age] \\begin{enumerate*}\n\\item 23\n\\item 34\n\\item 45\n\\end{enumerate*}\n\n\\item[\\$married] \\begin{enumerate*}\n\\item TRUE\n\\item FALSE\n\\item TRUE\n\\end{enumerate*}\n\n\\end{description}\n",
      "text/plain": "$name\n[1] \"John\" \"Jane\" \"Joe\" \n\n$age\n[1] 23 34 45\n\n$married\n[1]  TRUE FALSE  TRUE\n"
     },
     "metadata": {},
     "output_type": "display_data"
    }
   ],
   "source": [
    "# Lists\n",
    "lst <- list(\n",
    "    name = c(\"John\", \"Jane\", \"Joe\"),\n",
    "    age = c(23, 34, 45),\n",
    "    married = c(TRUE, FALSE, TRUE)\n",
    ")\n",
    "\n",
    "lst"
   ],
   "metadata": {
    "collapsed": false,
    "ExecuteTime": {
     "end_time": "2023-05-10T09:04:44.158745Z",
     "start_time": "2023-05-10T09:04:44.114994Z"
    }
   }
  },
  {
   "cell_type": "markdown",
   "source": [
    "## R Functions\n",
    "Functions are reusable pieces of code that perform a specific task. Functions can be built-in or user-defined. We will see how to define a function in the next section."
   ],
   "metadata": {
    "collapsed": false
   }
  },
  {
   "cell_type": "code",
   "execution_count": 17,
   "outputs": [
    {
     "data": {
      "text/html": "30.5",
      "text/markdown": "30.5",
      "text/latex": "30.5",
      "text/plain": "[1] 30.5"
     },
     "metadata": {},
     "output_type": "display_data"
    }
   ],
   "source": [
    "# Defining a function\n",
    "add_two_numbers <- function(x, y) {\n",
    "    x + y\n",
    "}\n",
    "\n",
    "# Calling a function\n",
    "add_two_numbers(10, 20.5)"
   ],
   "metadata": {
    "collapsed": false,
    "ExecuteTime": {
     "end_time": "2023-05-10T09:06:56.881596Z",
     "start_time": "2023-05-10T09:06:56.854307Z"
    }
   }
  },
  {
   "cell_type": "code",
   "execution_count": 19,
   "outputs": [
    {
     "data": {
      "text/html": "30",
      "text/markdown": "30",
      "text/latex": "30",
      "text/plain": "[1] 30"
     },
     "metadata": {},
     "output_type": "display_data"
    }
   ],
   "source": [
    "new_number <- add_two_numbers(10, 20.5)\n",
    "\n",
    "# Round a number\n",
    "round(new_number, 0)"
   ],
   "metadata": {
    "collapsed": false,
    "ExecuteTime": {
     "end_time": "2023-05-10T09:07:40.320878Z",
     "start_time": "2023-05-10T09:07:40.289386Z"
    }
   }
  },
  {
   "cell_type": "code",
   "execution_count": 20,
   "outputs": [
    {
     "data": {
      "text/html": "20",
      "text/markdown": "20",
      "text/latex": "20",
      "text/plain": "[1] 20"
     },
     "metadata": {},
     "output_type": "display_data"
    }
   ],
   "source": [
    "# Defining a function with default arguments\n",
    "add_to_ten <- function(x, y = 10) {\n",
    "    x + y\n",
    "}\n",
    "\n",
    "# Calling a function\n",
    "add_to_ten(10)"
   ],
   "metadata": {
    "collapsed": false,
    "ExecuteTime": {
     "end_time": "2023-05-10T09:09:12.880373Z",
     "start_time": "2023-05-10T09:09:12.843318Z"
    }
   }
  },
  {
   "cell_type": "code",
   "execution_count": 21,
   "outputs": [
    {
     "data": {
      "text/html": "150",
      "text/markdown": "150",
      "text/latex": "150",
      "text/plain": "[1] 150"
     },
     "metadata": {},
     "output_type": "display_data"
    }
   ],
   "source": [
    "# Defining a function with variable number of arguments\n",
    "add_numbers <- function(...) {\n",
    "    sum(...)\n",
    "}\n",
    "\n",
    "# Calling the function\n",
    "add_numbers(10, 20, 30, 40, 50)\n"
   ],
   "metadata": {
    "collapsed": false,
    "ExecuteTime": {
     "end_time": "2023-05-10T09:09:54.104873Z",
     "start_time": "2023-05-10T09:09:54.070437Z"
    }
   }
  },
  {
   "cell_type": "markdown",
   "source": [
    "## R Control Structures\n"
   ],
   "metadata": {
    "collapsed": false
   }
  },
  {
   "cell_type": "code",
   "execution_count": 22,
   "outputs": [
    {
     "name": "stdout",
     "output_type": "stream",
     "text": [
      "[1] \"x is equal to 10\"\n"
     ]
    }
   ],
   "source": [
    "# If-else statement\n",
    "x <- 10\n",
    "\n",
    "if (x > 10) {\n",
    "    print(\"x is greater than 10\")\n",
    "} else if (x < 10) {\n",
    "    print(\"x is less than 10\")\n",
    "} else {\n",
    "    print(\"x is equal to 10\")\n",
    "}\n"
   ],
   "metadata": {
    "collapsed": false,
    "ExecuteTime": {
     "end_time": "2023-05-10T09:12:55.701572Z",
     "start_time": "2023-05-10T09:12:55.670869Z"
    }
   }
  },
  {
   "cell_type": "code",
   "execution_count": 23,
   "outputs": [
    {
     "name": "stdout",
     "output_type": "stream",
     "text": [
      "[1] 1\n",
      "[1] 2\n",
      "[1] 3\n",
      "[1] 4\n",
      "[1] 5\n",
      "[1] 6\n",
      "[1] 7\n",
      "[1] 8\n",
      "[1] 9\n",
      "[1] 10\n"
     ]
    }
   ],
   "source": [
    "# For loop\n",
    "for (i in 1:10) {\n",
    "    print(i)\n",
    "}"
   ],
   "metadata": {
    "collapsed": false,
    "ExecuteTime": {
     "end_time": "2023-05-10T09:13:06.492956Z",
     "start_time": "2023-05-10T09:13:06.464188Z"
    }
   }
  },
  {
   "cell_type": "code",
   "execution_count": 24,
   "outputs": [
    {
     "name": "stdout",
     "output_type": "stream",
     "text": [
      "[1] 1\n",
      "[1] 2\n",
      "[1] 3\n",
      "[1] 4\n",
      "[1] 5\n",
      "[1] 6\n",
      "[1] 7\n",
      "[1] 8\n",
      "[1] 9\n",
      "[1] 10\n"
     ]
    }
   ],
   "source": [
    "# While loop\n",
    "i <- 1\n",
    "\n",
    "while (i <= 10) {\n",
    "    print(i)\n",
    "    i <- i + 1\n",
    "}"
   ],
   "metadata": {
    "collapsed": false,
    "ExecuteTime": {
     "end_time": "2023-05-10T09:13:21.188059Z",
     "start_time": "2023-05-10T09:13:21.154582Z"
    }
   }
  },
  {
   "cell_type": "code",
   "execution_count": 25,
   "outputs": [
    {
     "name": "stdout",
     "output_type": "stream",
     "text": [
      "[1] 1\n",
      "[1] 2\n",
      "[1] 3\n",
      "[1] 4\n",
      "[1] 5\n",
      "[1] 6\n",
      "[1] 7\n",
      "[1] 8\n",
      "[1] 9\n",
      "[1] 10\n"
     ]
    }
   ],
   "source": [
    "# Repeat loop\n",
    "i <- 1\n",
    "\n",
    "repeat {\n",
    "    print(i)\n",
    "    i <- i + 1\n",
    "\n",
    "    if (i > 10) {\n",
    "        break\n",
    "    }\n",
    "}"
   ],
   "metadata": {
    "collapsed": false,
    "ExecuteTime": {
     "end_time": "2023-05-10T09:13:43.772250Z",
     "start_time": "2023-05-10T09:13:43.743312Z"
    }
   }
  },
  {
   "cell_type": "code",
   "execution_count": 26,
   "outputs": [
    {
     "name": "stdout",
     "output_type": "stream",
     "text": [
      "[1] 1\n",
      "[1] 2\n",
      "[1] 3\n",
      "[1] 4\n",
      "[1] 6\n",
      "[1] 7\n",
      "[1] 8\n",
      "[1] 9\n",
      "[1] 10\n"
     ]
    }
   ],
   "source": [
    "# Next statement\n",
    "for (i in 1:10) {\n",
    "    if (i == 5) {\n",
    "        next\n",
    "    }\n",
    "\n",
    "    print(i)\n",
    "}"
   ],
   "metadata": {
    "collapsed": false,
    "ExecuteTime": {
     "end_time": "2023-05-10T09:13:52.161263Z",
     "start_time": "2023-05-10T09:13:52.131907Z"
    }
   }
  },
  {
   "cell_type": "code",
   "execution_count": 27,
   "outputs": [
    {
     "name": "stdout",
     "output_type": "stream",
     "text": [
      "[1] 1\n",
      "[1] 2\n",
      "[1] 3\n",
      "[1] 4\n"
     ]
    }
   ],
   "source": [
    "# Break statement\n",
    "for (i in 1:10) {\n",
    "    if (i == 5) {\n",
    "        break\n",
    "    }\n",
    "\n",
    "    print(i)\n",
    "}"
   ],
   "metadata": {
    "collapsed": false,
    "ExecuteTime": {
     "end_time": "2023-05-10T09:14:18.006303Z",
     "start_time": "2023-05-10T09:14:17.982427Z"
    }
   }
  },
  {
   "cell_type": "code",
   "execution_count": 31,
   "outputs": [],
   "source": [
    "# Switch statement\n",
    "x <- 3\n",
    "\n",
    "switch(x,\n",
    "    \"case 1\" = print(\"x is 1\"),\n",
    "    \"case 2\" = print(\"x is 2\"),\n",
    "    \"case 3\" = print(\"x is 3\"),\n",
    "    print(\"x is not 1, 2 or 3\")\n",
    ")"
   ],
   "metadata": {
    "collapsed": false,
    "ExecuteTime": {
     "end_time": "2023-05-10T09:15:45.366094Z",
     "start_time": "2023-05-10T09:15:45.343490Z"
    }
   }
  },
  {
   "cell_type": "markdown",
   "source": [
    "## R Packages"
   ],
   "metadata": {
    "collapsed": false
   }
  },
  {
   "cell_type": "code",
   "execution_count": 37,
   "outputs": [
    {
     "name": "stdout",
     "output_type": "stream",
     "text": [
      "\n",
      "The downloaded binary packages are in\n",
      "\t/var/folders/sl/c5pyww8j61j6_9_z4twp2ygc0000gn/T//RtmpNEL1E7/downloaded_packages\n"
     ]
    }
   ],
   "source": [
    "# Installing a package\n",
    "install.packages(\"ggplot2\")\n",
    "\n",
    "# Loading a package\n",
    "library(ggplot2)"
   ],
   "metadata": {
    "collapsed": false,
    "ExecuteTime": {
     "end_time": "2023-05-10T09:22:31.956659Z",
     "start_time": "2023-05-10T09:22:30.006690Z"
    }
   }
  },
  {
   "cell_type": "code",
   "execution_count": 34,
   "outputs": [
    {
     "data": {
      "text/html": "<table class=\"dataframe\">\n<caption>A matrix: 6 × 16 of type chr</caption>\n<thead>\n\t<tr><th></th><th scope=col>Package</th><th scope=col>LibPath</th><th scope=col>Version</th><th scope=col>Priority</th><th scope=col>Depends</th><th scope=col>Imports</th><th scope=col>LinkingTo</th><th scope=col>Suggests</th><th scope=col>Enhances</th><th scope=col>License</th><th scope=col>License_is_FOSS</th><th scope=col>License_restricts_use</th><th scope=col>OS_type</th><th scope=col>MD5sum</th><th scope=col>NeedsCompilation</th><th scope=col>Built</th></tr>\n</thead>\n<tbody>\n\t<tr><th scope=row>abind</th><td><span style=white-space:pre-wrap>abind         </span></td><td>/Library/Frameworks/R.framework/Versions/4.2-arm64/Resources/library</td><td>1.4-5</td><td>NA</td><td>R (&gt;= 1.5.0)</td><td><span style=white-space:pre-wrap>methods, utils                                                                                                                                                                                                                                                                                                                                         </span></td><td>NA</td><td><span style=white-space:pre-wrap>NA                </span></td><td>NA</td><td><span style=white-space:pre-wrap>LGPL (&gt;= 2)       </span></td><td>NA</td><td>NA</td><td>NA</td><td>NA</td><td>no </td><td>4.2.0</td></tr>\n\t<tr><th scope=row>admisc</th><td><span style=white-space:pre-wrap>admisc        </span></td><td>/Library/Frameworks/R.framework/Versions/4.2-arm64/Resources/library</td><td>0.31 </td><td>NA</td><td>R (&gt;= 3.5.0)</td><td><span style=white-space:pre-wrap>methods                                                                                                                                                                                                                                                                                                                                                </span></td><td>NA</td><td><span style=white-space:pre-wrap>QCA (&gt;= 3.7)      </span></td><td>NA</td><td><span style=white-space:pre-wrap>GPL (&gt;= 3)        </span></td><td>NA</td><td>NA</td><td>NA</td><td>NA</td><td>yes</td><td>4.2.0</td></tr>\n\t<tr><th scope=row>AlgDesign</th><td><span style=white-space:pre-wrap>AlgDesign     </span></td><td>/Library/Frameworks/R.framework/Versions/4.2-arm64/Resources/library</td><td>1.2.1</td><td>NA</td><td><span style=white-space:pre-wrap>NA          </span></td><td><span style=white-space:pre-wrap>NA                                                                                                                                                                                                                                                                                                                                                     </span></td><td>NA</td><td><span style=white-space:pre-wrap>NA                </span></td><td>NA</td><td><span style=white-space:pre-wrap>GPL (&gt;= 2)        </span></td><td>NA</td><td>NA</td><td>NA</td><td>NA</td><td>yes</td><td>4.2.0</td></tr>\n\t<tr><th scope=row>askpass</th><td><span style=white-space:pre-wrap>askpass       </span></td><td>/Library/Frameworks/R.framework/Versions/4.2-arm64/Resources/library</td><td><span style=white-space:pre-wrap>1.1  </span></td><td>NA</td><td><span style=white-space:pre-wrap>NA          </span></td><td><span style=white-space:pre-wrap>sys (&gt;= 2.1)                                                                                                                                                                                                                                                                                                                                           </span></td><td>NA</td><td><span style=white-space:pre-wrap>testthat          </span></td><td>NA</td><td>MIT + file LICENSE</td><td>NA</td><td>NA</td><td>NA</td><td>NA</td><td>yes</td><td>4.2.0</td></tr>\n\t<tr><th scope=row>assertive</th><td><span style=white-space:pre-wrap>assertive     </span></td><td>/Library/Frameworks/R.framework/Versions/4.2-arm64/Resources/library</td><td>0.3-6</td><td>NA</td><td>R (&gt;= 3.0.0)</td><td>assertive.base (&gt;= 0.0-4), assertive.properties (&gt;= 0.0-2),\nassertive.types (&gt;= 0.0-2), assertive.numbers,\nassertive.strings, assertive.datetimes, assertive.files,\nassertive.sets (&gt;= 0.0-2), assertive.matrices,\nassertive.models, assertive.data, assertive.data.uk,\nassertive.data.us, assertive.reflection (&gt;= 0.0-2),\nassertive.code, knitr</td><td>NA</td><td>testthat, markdown</td><td>NA</td><td><span style=white-space:pre-wrap>GPL (&gt;= 3)        </span></td><td>NA</td><td>NA</td><td>NA</td><td>NA</td><td>no </td><td>4.2.0</td></tr>\n\t<tr><th scope=row>assertive.base</th><td>assertive.base</td><td>/Library/Frameworks/R.framework/Versions/4.2-arm64/Resources/library</td><td>0.0-9</td><td>NA</td><td>R (&gt;= 3.5.0)</td><td><span style=white-space:pre-wrap>methods, utils                                                                                                                                                                                                                                                                                                                                         </span></td><td>NA</td><td><span style=white-space:pre-wrap>testthat          </span></td><td>NA</td><td><span style=white-space:pre-wrap>GPL (&gt;= 3)        </span></td><td>NA</td><td>NA</td><td>NA</td><td>NA</td><td>no </td><td>4.2.0</td></tr>\n</tbody>\n</table>\n",
      "text/markdown": "\nA matrix: 6 × 16 of type chr\n\n| <!--/--> | Package | LibPath | Version | Priority | Depends | Imports | LinkingTo | Suggests | Enhances | License | License_is_FOSS | License_restricts_use | OS_type | MD5sum | NeedsCompilation | Built |\n|---|---|---|---|---|---|---|---|---|---|---|---|---|---|---|---|---|\n| abind | abind          | /Library/Frameworks/R.framework/Versions/4.2-arm64/Resources/library | 1.4-5 | NA | R (&gt;= 1.5.0) | methods, utils                                                                                                                                                                                                                                                                                                                                          | NA | NA                 | NA | LGPL (&gt;= 2)        | NA | NA | NA | NA | no  | 4.2.0 |\n| admisc | admisc         | /Library/Frameworks/R.framework/Versions/4.2-arm64/Resources/library | 0.31  | NA | R (&gt;= 3.5.0) | methods                                                                                                                                                                                                                                                                                                                                                 | NA | QCA (&gt;= 3.7)       | NA | GPL (&gt;= 3)         | NA | NA | NA | NA | yes | 4.2.0 |\n| AlgDesign | AlgDesign      | /Library/Frameworks/R.framework/Versions/4.2-arm64/Resources/library | 1.2.1 | NA | NA           | NA                                                                                                                                                                                                                                                                                                                                                      | NA | NA                 | NA | GPL (&gt;= 2)         | NA | NA | NA | NA | yes | 4.2.0 |\n| askpass | askpass        | /Library/Frameworks/R.framework/Versions/4.2-arm64/Resources/library | 1.1   | NA | NA           | sys (&gt;= 2.1)                                                                                                                                                                                                                                                                                                                                            | NA | testthat           | NA | MIT + file LICENSE | NA | NA | NA | NA | yes | 4.2.0 |\n| assertive | assertive      | /Library/Frameworks/R.framework/Versions/4.2-arm64/Resources/library | 0.3-6 | NA | R (&gt;= 3.0.0) | assertive.base (&gt;= 0.0-4), assertive.properties (&gt;= 0.0-2),\nassertive.types (&gt;= 0.0-2), assertive.numbers,\nassertive.strings, assertive.datetimes, assertive.files,\nassertive.sets (&gt;= 0.0-2), assertive.matrices,\nassertive.models, assertive.data, assertive.data.uk,\nassertive.data.us, assertive.reflection (&gt;= 0.0-2),\nassertive.code, knitr | NA | testthat, markdown | NA | GPL (&gt;= 3)         | NA | NA | NA | NA | no  | 4.2.0 |\n| assertive.base | assertive.base | /Library/Frameworks/R.framework/Versions/4.2-arm64/Resources/library | 0.0-9 | NA | R (&gt;= 3.5.0) | methods, utils                                                                                                                                                                                                                                                                                                                                          | NA | testthat           | NA | GPL (&gt;= 3)         | NA | NA | NA | NA | no  | 4.2.0 |\n\n",
      "text/latex": "A matrix: 6 × 16 of type chr\n\\begin{tabular}{r|llllllllllllllll}\n  & Package & LibPath & Version & Priority & Depends & Imports & LinkingTo & Suggests & Enhances & License & License\\_is\\_FOSS & License\\_restricts\\_use & OS\\_type & MD5sum & NeedsCompilation & Built\\\\\n\\hline\n\tabind & abind          & /Library/Frameworks/R.framework/Versions/4.2-arm64/Resources/library & 1.4-5 & NA & R (>= 1.5.0) & methods, utils                                                                                                                                                                                                                                                                                                                                          & NA & NA                 & NA & LGPL (>= 2)        & NA & NA & NA & NA & no  & 4.2.0\\\\\n\tadmisc & admisc         & /Library/Frameworks/R.framework/Versions/4.2-arm64/Resources/library & 0.31  & NA & R (>= 3.5.0) & methods                                                                                                                                                                                                                                                                                                                                                 & NA & QCA (>= 3.7)       & NA & GPL (>= 3)         & NA & NA & NA & NA & yes & 4.2.0\\\\\n\tAlgDesign & AlgDesign      & /Library/Frameworks/R.framework/Versions/4.2-arm64/Resources/library & 1.2.1 & NA & NA           & NA                                                                                                                                                                                                                                                                                                                                                      & NA & NA                 & NA & GPL (>= 2)         & NA & NA & NA & NA & yes & 4.2.0\\\\\n\taskpass & askpass        & /Library/Frameworks/R.framework/Versions/4.2-arm64/Resources/library & 1.1   & NA & NA           & sys (>= 2.1)                                                                                                                                                                                                                                                                                                                                            & NA & testthat           & NA & MIT + file LICENSE & NA & NA & NA & NA & yes & 4.2.0\\\\\n\tassertive & assertive      & /Library/Frameworks/R.framework/Versions/4.2-arm64/Resources/library & 0.3-6 & NA & R (>= 3.0.0) & assertive.base (>= 0.0-4), assertive.properties (>= 0.0-2),\nassertive.types (>= 0.0-2), assertive.numbers,\nassertive.strings, assertive.datetimes, assertive.files,\nassertive.sets (>= 0.0-2), assertive.matrices,\nassertive.models, assertive.data, assertive.data.uk,\nassertive.data.us, assertive.reflection (>= 0.0-2),\nassertive.code, knitr & NA & testthat, markdown & NA & GPL (>= 3)         & NA & NA & NA & NA & no  & 4.2.0\\\\\n\tassertive.base & assertive.base & /Library/Frameworks/R.framework/Versions/4.2-arm64/Resources/library & 0.0-9 & NA & R (>= 3.5.0) & methods, utils                                                                                                                                                                                                                                                                                                                                          & NA & testthat           & NA & GPL (>= 3)         & NA & NA & NA & NA & no  & 4.2.0\\\\\n\\end{tabular}\n",
      "text/plain": "               Package       \nabind          abind         \nadmisc         admisc        \nAlgDesign      AlgDesign     \naskpass        askpass       \nassertive      assertive     \nassertive.base assertive.base\n               LibPath                                                             \nabind          /Library/Frameworks/R.framework/Versions/4.2-arm64/Resources/library\nadmisc         /Library/Frameworks/R.framework/Versions/4.2-arm64/Resources/library\nAlgDesign      /Library/Frameworks/R.framework/Versions/4.2-arm64/Resources/library\naskpass        /Library/Frameworks/R.framework/Versions/4.2-arm64/Resources/library\nassertive      /Library/Frameworks/R.framework/Versions/4.2-arm64/Resources/library\nassertive.base /Library/Frameworks/R.framework/Versions/4.2-arm64/Resources/library\n               Version Priority Depends     \nabind          1.4-5   NA       R (>= 1.5.0)\nadmisc         0.31    NA       R (>= 3.5.0)\nAlgDesign      1.2.1   NA       NA          \naskpass        1.1     NA       NA          \nassertive      0.3-6   NA       R (>= 3.0.0)\nassertive.base 0.0-9   NA       R (>= 3.5.0)\n               Imports                                                                                                                                                                                                                                                                                                                                                \nabind          methods, utils                                                                                                                                                                                                                                                                                                                                         \nadmisc         methods                                                                                                                                                                                                                                                                                                                                                \nAlgDesign      NA                                                                                                                                                                                                                                                                                                                                                     \naskpass        sys (>= 2.1)                                                                                                                                                                                                                                                                                                                                           \nassertive      assertive.base (>= 0.0-4), assertive.properties (>= 0.0-2),\\nassertive.types (>= 0.0-2), assertive.numbers,\\nassertive.strings, assertive.datetimes, assertive.files,\\nassertive.sets (>= 0.0-2), assertive.matrices,\\nassertive.models, assertive.data, assertive.data.uk,\\nassertive.data.us, assertive.reflection (>= 0.0-2),\\nassertive.code, knitr\nassertive.base methods, utils                                                                                                                                                                                                                                                                                                                                         \n               LinkingTo Suggests           Enhances License           \nabind          NA        NA                 NA       LGPL (>= 2)       \nadmisc         NA        QCA (>= 3.7)       NA       GPL (>= 3)        \nAlgDesign      NA        NA                 NA       GPL (>= 2)        \naskpass        NA        testthat           NA       MIT + file LICENSE\nassertive      NA        testthat, markdown NA       GPL (>= 3)        \nassertive.base NA        testthat           NA       GPL (>= 3)        \n               License_is_FOSS License_restricts_use OS_type MD5sum\nabind          NA              NA                    NA      NA    \nadmisc         NA              NA                    NA      NA    \nAlgDesign      NA              NA                    NA      NA    \naskpass        NA              NA                    NA      NA    \nassertive      NA              NA                    NA      NA    \nassertive.base NA              NA                    NA      NA    \n               NeedsCompilation Built\nabind          no               4.2.0\nadmisc         yes              4.2.0\nAlgDesign      yes              4.2.0\naskpass        yes              4.2.0\nassertive      no               4.2.0\nassertive.base no               4.2.0"
     },
     "metadata": {},
     "output_type": "display_data"
    }
   ],
   "source": [
    "# Listing the first 10 of all installed packages\n",
    "head(installed.packages())"
   ],
   "metadata": {
    "collapsed": false,
    "ExecuteTime": {
     "end_time": "2023-05-10T09:20:07.304379Z",
     "start_time": "2023-05-10T09:20:07.282437Z"
    }
   }
  },
  {
   "cell_type": "code",
   "execution_count": 35,
   "outputs": [
    {
     "name": "stdout",
     "output_type": "stream",
     "text": [
      "cachem :\n",
      " Version 1.0.7 installed in /Library/Frameworks/R.framework/Versions/4.2-arm64/Resources/library \n",
      " Version 1.0.8 available at https://cran.r-project.org\n",
      "chron :\n",
      " Version 2.3-60 installed in /Library/Frameworks/R.framework/Versions/4.2-arm64/Resources/library \n",
      " Version 2.3-61 available at https://cran.r-project.org\n",
      "class :\n",
      " Version 7.3-21 installed in /Library/Frameworks/R.framework/Versions/4.2-arm64/Resources/library \n",
      " Version 7.3-22 available at https://cran.r-project.org\n",
      "DEoptimR :\n",
      " Version 1.0-12 installed in /Library/Frameworks/R.framework/Versions/4.2-arm64/Resources/library \n",
      " Version 1.0-13 available at https://cran.r-project.org\n",
      "dplyr :\n",
      " Version 1.1.1 installed in /Library/Frameworks/R.framework/Versions/4.2-arm64/Resources/library \n",
      " Version 1.1.2 available at https://cran.r-project.org\n",
      "evaluate :\n",
      " Version 0.20 installed in /Library/Frameworks/R.framework/Versions/4.2-arm64/Resources/library \n",
      " Version 0.21 available at https://cran.r-project.org\n",
      "fontawesome :\n",
      " Version 0.5.0 installed in /Library/Frameworks/R.framework/Versions/4.2-arm64/Resources/library \n",
      " Version 0.5.1 available at https://cran.r-project.org\n",
      "fs :\n",
      " Version 1.6.1 installed in /Library/Frameworks/R.framework/Versions/4.2-arm64/Resources/library \n",
      " Version 1.6.2 available at https://cran.r-project.org\n",
      "gargle :\n",
      " Version 1.3.0 installed in /Library/Frameworks/R.framework/Versions/4.2-arm64/Resources/library \n",
      " Version 1.4.0 available at https://cran.r-project.org\n",
      "gdata :\n",
      " Version 2.18.0.1 installed in /Library/Frameworks/R.framework/Versions/4.2-arm64/Resources/library \n",
      " Version 2.19.0 available at https://cran.r-project.org\n",
      "httpuv :\n",
      " Version 1.6.9 installed in /Library/Frameworks/R.framework/Versions/4.2-arm64/Resources/library \n",
      " Version 1.6.10 available at https://cran.r-project.org\n",
      "httr :\n",
      " Version 1.4.5 installed in /Library/Frameworks/R.framework/Versions/4.2-arm64/Resources/library \n",
      " Version 1.4.6 available at https://cran.r-project.org\n",
      "influenceR :\n",
      " Version 0.1.0.1 installed in /Library/Frameworks/R.framework/Versions/4.2-arm64/Resources/library \n",
      " Version 0.1.0.2 available at https://cran.r-project.org\n",
      "KernSmooth :\n",
      " Version 2.23-20 installed in /Library/Frameworks/R.framework/Versions/4.2-arm64/Resources/library \n",
      " Version 2.23-21 available at https://cran.r-project.org\n",
      "later :\n",
      " Version 1.3.0 installed in /Library/Frameworks/R.framework/Versions/4.2-arm64/Resources/library \n",
      " Version 1.3.1 available at https://cran.r-project.org\n",
      "lme4 :\n",
      " Version 1.1-32 installed in /Library/Frameworks/R.framework/Versions/4.2-arm64/Resources/library \n",
      " Version 1.1-33 available at https://cran.r-project.org\n",
      "MASS :\n",
      " Version 7.3-58.3 installed in /Library/Frameworks/R.framework/Versions/4.2-arm64/Resources/library \n",
      " Version 7.3-60 available at https://cran.r-project.org\n",
      "nnet :\n",
      " Version 7.3-18 installed in /Library/Frameworks/R.framework/Versions/4.2-arm64/Resources/library \n",
      " Version 7.3-19 available at https://cran.r-project.org\n",
      "processx :\n",
      " Version 3.8.0 installed in /Library/Frameworks/R.framework/Versions/4.2-arm64/Resources/library \n",
      " Version 3.8.1 available at https://cran.r-project.org\n",
      "ps :\n",
      " Version 1.7.4 installed in /Library/Frameworks/R.framework/Versions/4.2-arm64/Resources/library \n",
      " Version 1.7.5 available at https://cran.r-project.org\n",
      "radiant.data :\n",
      " Version 1.5.1 installed in /Library/Frameworks/R.framework/Versions/4.2-arm64/Resources/library \n",
      " Version 1.5.6 available at https://cran.r-project.org\n",
      "rlang :\n",
      " Version 1.1.0 installed in /Library/Frameworks/R.framework/Versions/4.2-arm64/Resources/library \n",
      " Version 1.1.1 available at https://cran.r-project.org\n",
      "sass :\n",
      " Version 0.4.5 installed in /Library/Frameworks/R.framework/Versions/4.2-arm64/Resources/library \n",
      " Version 0.4.6 available at https://cran.r-project.org\n",
      "testthat :\n",
      " Version 3.1.7 installed in /Library/Frameworks/R.framework/Versions/4.2-arm64/Resources/library \n",
      " Version 3.1.8 available at https://cran.r-project.org\n",
      "tinytex :\n",
      " Version 0.44 installed in /Library/Frameworks/R.framework/Versions/4.2-arm64/Resources/library \n",
      " Version 0.45 available at https://cran.r-project.org\n",
      "vctrs :\n",
      " Version 0.6.1 installed in /Library/Frameworks/R.framework/Versions/4.2-arm64/Resources/library \n",
      " Version 0.6.2 available at https://cran.r-project.org\n",
      "viridis :\n",
      " Version 0.6.2 installed in /Library/Frameworks/R.framework/Versions/4.2-arm64/Resources/library \n",
      " Version 0.6.3 available at https://cran.r-project.org\n",
      "viridisLite :\n",
      " Version 0.4.1 installed in /Library/Frameworks/R.framework/Versions/4.2-arm64/Resources/library \n",
      " Version 0.4.2 available at https://cran.r-project.org\n",
      "vroom :\n",
      " Version 1.6.1 installed in /Library/Frameworks/R.framework/Versions/4.2-arm64/Resources/library \n",
      " Version 1.6.3 available at https://cran.r-project.org\n",
      "waldo :\n",
      " Version 0.4.0 installed in /Library/Frameworks/R.framework/Versions/4.2-arm64/Resources/library \n",
      " Version 0.5.1 available at https://cran.r-project.org\n",
      "xfun :\n",
      " Version 0.38 installed in /Library/Frameworks/R.framework/Versions/4.2-arm64/Resources/library \n",
      " Version 0.39 available at https://cran.r-project.org\n",
      "xml2 :\n",
      " Version 1.3.3 installed in /Library/Frameworks/R.framework/Versions/4.2-arm64/Resources/library \n",
      " Version 1.3.4 available at https://cran.r-project.org\n",
      "xts :\n",
      " Version 0.13.0 installed in /Library/Frameworks/R.framework/Versions/4.2-arm64/Resources/library \n",
      " Version 0.13.1 available at https://cran.r-project.org\n",
      "zoo :\n",
      " Version 1.8-11 installed in /Library/Frameworks/R.framework/Versions/4.2-arm64/Resources/library \n",
      " Version 1.8-12 available at https://cran.r-project.org\n",
      "\n",
      "  There are binary versions available but the source versions are later:\n",
      "       binary source needs_compilation\n",
      "httpuv  1.6.9 1.6.10              TRUE\n",
      "httr    1.4.5  1.4.6             FALSE\n",
      "waldo   0.5.0  0.5.1             FALSE\n",
      "\n",
      "\n",
      "The downloaded binary packages are in\n",
      "\t/var/folders/sl/c5pyww8j61j6_9_z4twp2ygc0000gn/T//RtmpNEL1E7/downloaded_packages\n"
     ]
    },
    {
     "name": "stderr",
     "output_type": "stream",
     "text": [
      "installing the source packages ‘httpuv’, ‘httr’, ‘waldo’\n",
      "\n",
      "\n",
      "Warning message in install.packages(update[instlib == l, \"Package\"], l, repos = repos, :\n",
      "“installation of package ‘httpuv’ had non-zero exit status”\n"
     ]
    }
   ],
   "source": [
    "# Maintaining packages\n",
    "# update.packages()\n"
   ],
   "metadata": {
    "collapsed": false,
    "ExecuteTime": {
     "end_time": "2023-05-10T09:21:53.511356Z",
     "start_time": "2023-05-10T09:20:48.903743Z"
    }
   }
  },
  {
   "cell_type": "code",
   "execution_count": null,
   "outputs": [],
   "source": [
    "# Removing a package\n",
    "# remove.packages(\"ggplot2\")"
   ],
   "metadata": {
    "collapsed": false
   }
  },
  {
   "cell_type": "code",
   "execution_count": 39,
   "outputs": [
    {
     "data": {
      "text/html": "<style>\n.list-inline {list-style: none; margin:0; padding: 0}\n.list-inline>li {display: inline-block}\n.list-inline>li:not(:last-child)::after {content: \"\\00b7\"; padding: 0 .5ex}\n</style>\n<ol class=list-inline><li>'.GlobalEnv'</li><li>'package:ggplot2'</li><li>'jupyter:irkernel'</li><li>'package:stats'</li><li>'package:graphics'</li><li>'package:grDevices'</li><li>'package:utils'</li><li>'package:datasets'</li><li>'package:methods'</li><li>'Autoloads'</li><li>'package:base'</li></ol>\n",
      "text/markdown": "1. '.GlobalEnv'\n2. 'package:ggplot2'\n3. 'jupyter:irkernel'\n4. 'package:stats'\n5. 'package:graphics'\n6. 'package:grDevices'\n7. 'package:utils'\n8. 'package:datasets'\n9. 'package:methods'\n10. 'Autoloads'\n11. 'package:base'\n\n\n",
      "text/latex": "\\begin{enumerate*}\n\\item '.GlobalEnv'\n\\item 'package:ggplot2'\n\\item 'jupyter:irkernel'\n\\item 'package:stats'\n\\item 'package:graphics'\n\\item 'package:grDevices'\n\\item 'package:utils'\n\\item 'package:datasets'\n\\item 'package:methods'\n\\item 'Autoloads'\n\\item 'package:base'\n\\end{enumerate*}\n",
      "text/plain": " [1] \".GlobalEnv\"        \"package:ggplot2\"   \"jupyter:irkernel\" \n [4] \"package:stats\"     \"package:graphics\"  \"package:grDevices\"\n [7] \"package:utils\"     \"package:datasets\"  \"package:methods\"  \n[10] \"Autoloads\"         \"package:base\"     "
     },
     "metadata": {},
     "output_type": "display_data"
    }
   ],
   "source": [
    "# Listing all imported packages\n",
    "search()"
   ],
   "metadata": {
    "collapsed": false,
    "ExecuteTime": {
     "end_time": "2023-05-10T09:22:57.635444Z",
     "start_time": "2023-05-10T09:22:57.614892Z"
    }
   }
  },
  {
   "cell_type": "code",
   "execution_count": 42,
   "outputs": [
    {
     "data": {
      "text/html": "<style>\n.list-inline {list-style: none; margin:0; padding: 0}\n.list-inline>li {display: inline-block}\n.list-inline>li:not(:last-child)::after {content: \"\\00b7\"; padding: 0 .5ex}\n</style>\n<ol class=list-inline><li>'%+%'</li><li>'%+replace%'</li><li>'aes'</li><li>'aes_'</li><li>'aes_all'</li><li>'aes_auto'</li><li>'aes_q'</li><li>'aes_string'</li><li>'after_scale'</li><li>'after_stat'</li><li>'alpha'</li><li>'annotate'</li><li>'annotation_custom'</li></ol>\n",
      "text/markdown": "1. '%+%'\n2. '%+replace%'\n3. 'aes'\n4. 'aes_'\n5. 'aes_all'\n6. 'aes_auto'\n7. 'aes_q'\n8. 'aes_string'\n9. 'after_scale'\n10. 'after_stat'\n11. 'alpha'\n12. 'annotate'\n13. 'annotation_custom'\n\n\n",
      "text/latex": "\\begin{enumerate*}\n\\item '\\%+\\%'\n\\item '\\%+replace\\%'\n\\item 'aes'\n\\item 'aes\\_'\n\\item 'aes\\_all'\n\\item 'aes\\_auto'\n\\item 'aes\\_q'\n\\item 'aes\\_string'\n\\item 'after\\_scale'\n\\item 'after\\_stat'\n\\item 'alpha'\n\\item 'annotate'\n\\item 'annotation\\_custom'\n\\end{enumerate*}\n",
      "text/plain": " [1] \"%+%\"               \"%+replace%\"        \"aes\"              \n [4] \"aes_\"              \"aes_all\"           \"aes_auto\"         \n [7] \"aes_q\"             \"aes_string\"        \"after_scale\"      \n[10] \"after_stat\"        \"alpha\"             \"annotate\"         \n[13] \"annotation_custom\""
     },
     "metadata": {},
     "output_type": "display_data"
    }
   ],
   "source": [
    "# Listing contents of a package\n",
    "head(ls(\"package:ggplot2\"), 13)"
   ],
   "metadata": {
    "collapsed": false,
    "ExecuteTime": {
     "end_time": "2023-05-10T09:24:47.964991Z",
     "start_time": "2023-05-10T09:24:47.943101Z"
    }
   }
  },
  {
   "cell_type": "code",
   "execution_count": 43,
   "outputs": [],
   "source": [
    "# information about a package\n",
    "help(package = \"ggplot2\")"
   ],
   "metadata": {
    "collapsed": false,
    "ExecuteTime": {
     "end_time": "2023-05-10T09:25:54.736563Z",
     "start_time": "2023-05-10T09:25:54.696497Z"
    }
   }
  },
  {
   "cell_type": "markdown",
   "source": [
    "# The pipe operator"
   ],
   "metadata": {
    "collapsed": false
   }
  },
  {
   "cell_type": "code",
   "execution_count": null,
   "outputs": [],
   "source": [
    "# Without pipe operator\n",
    "x <- c(1, 2, 3, 4, 5)\n",
    "\n",
    "mean(x)"
   ],
   "metadata": {
    "collapsed": false
   }
  },
  {
   "cell_type": "code",
   "execution_count": 45,
   "outputs": [
    {
     "ename": "ERROR",
     "evalue": "Error in x %>% mean(): could not find function \"%>%\"\n",
     "output_type": "error",
     "traceback": [
      "Error in x %>% mean(): could not find function \"%>%\"\nTraceback:\n"
     ]
    }
   ],
   "source": [
    "# With pipe operator\n",
    "x <- c(1, 2, 3, 4, 5)\n",
    "\n",
    "x %>% mean()"
   ],
   "metadata": {
    "collapsed": false,
    "ExecuteTime": {
     "end_time": "2023-05-10T09:46:38.534046Z",
     "start_time": "2023-05-10T09:46:38.508281Z"
    }
   }
  },
  {
   "cell_type": "code",
   "execution_count": null,
   "outputs": [],
   "source": [],
   "metadata": {
    "collapsed": false
   }
  }
 ],
 "metadata": {
  "kernelspec": {
   "name": "ir",
   "language": "R",
   "display_name": "R"
  },
  "language_info": {
   "codemirror_mode": {
    "name": "ipython",
    "version": 2
   },
   "file_extension": ".py",
   "mimetype": "text/x-python",
   "name": "python",
   "nbconvert_exporter": "python",
   "pygments_lexer": "ipython2",
   "version": "2.7.6"
  }
 },
 "nbformat": 4,
 "nbformat_minor": 0
}
