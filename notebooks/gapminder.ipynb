{
 "cells": [
  {
   "cell_type": "markdown",
   "source": [
    "[![Open In Colab](https://colab.research.google.com/assets/colab-badge.svg)](https://colab.research.google.com/github/nilsjennissen/r-handbook/blob/main/notebooks/r-notebook.ipynb)"
   ],
   "metadata": {
    "collapsed": false
   }
  },
  {
   "cell_type": "markdown",
   "metadata": {},
   "source": [
    "# Running R in a Jupyter notebook\n",
    "We can use R Language in a Jupyter notebook. This is a great way to combine R and Python in one notebook."
   ]
  },
  {
   "cell_type": "code",
   "execution_count": null,
   "outputs": [],
   "source": [
    "# Installing pacakges\n",
    "install.packages(\"gapminder\")"
   ],
   "metadata": {
    "collapsed": false
   }
  },
  {
   "cell_type": "code",
   "execution_count": null,
   "metadata": {},
   "outputs": [],
   "source": [
    "# Load libraries\n",
    "library(reshape)\n",
    "library(gapminder)\n",
    "library(dplyr)\n",
    "library(ggplot2)"
   ]
  },
  {
   "cell_type": "markdown",
   "source": [
    "## Load data"
   ],
   "metadata": {
    "collapsed": false
   }
  },
  {
   "cell_type": "code",
   "execution_count": null,
   "outputs": [],
   "source": [
    "# Loading the gapminder dataset from the gapminder package\n",
    "data(gapminder)\n"
   ],
   "metadata": {
    "collapsed": false
   }
  },
  {
   "cell_type": "code",
   "execution_count": null,
   "outputs": [],
   "source": [
    "head(gapminder)\n"
   ],
   "metadata": {
    "collapsed": false
   }
  },
  {
   "cell_type": "markdown",
   "source": [
    "## Initial data analysis for the Gapminder dataset\n",
    "Let's try some functions to get a better understanding of the data."
   ],
   "metadata": {
    "collapsed": false
   }
  },
  {
   "cell_type": "code",
   "execution_count": 14,
   "outputs": [
    {
     "data": {
      "text/html": "<style>\n.list-inline {list-style: none; margin:0; padding: 0}\n.list-inline>li {display: inline-block}\n.list-inline>li:not(:last-child)::after {content: \"\\00b7\"; padding: 0 .5ex}\n</style>\n<ol class=list-inline><li>1704</li><li>6</li></ol>\n",
      "text/markdown": "1. 1704\n2. 6\n\n\n",
      "text/latex": "\\begin{enumerate*}\n\\item 1704\n\\item 6\n\\end{enumerate*}\n",
      "text/plain": "[1] 1704    6"
     },
     "metadata": {},
     "output_type": "display_data"
    }
   ],
   "source": [
    "# What is the shape of the dataset?\n"
   ],
   "metadata": {
    "collapsed": false
   }
  },
  {
   "cell_type": "code",
   "execution_count": 15,
   "outputs": [
    {
     "data": {
      "text/html": "<style>\n.list-inline {list-style: none; margin:0; padding: 0}\n.list-inline>li {display: inline-block}\n.list-inline>li:not(:last-child)::after {content: \"\\00b7\"; padding: 0 .5ex}\n</style>\n<ol class=list-inline><li>'country'</li><li>'continent'</li><li>'year'</li><li>'lifeExp'</li><li>'pop'</li><li>'gdpPercap'</li></ol>\n",
      "text/markdown": "1. 'country'\n2. 'continent'\n3. 'year'\n4. 'lifeExp'\n5. 'pop'\n6. 'gdpPercap'\n\n\n",
      "text/latex": "\\begin{enumerate*}\n\\item 'country'\n\\item 'continent'\n\\item 'year'\n\\item 'lifeExp'\n\\item 'pop'\n\\item 'gdpPercap'\n\\end{enumerate*}\n",
      "text/plain": "[1] \"country\"   \"continent\" \"year\"      \"lifeExp\"   \"pop\"       \"gdpPercap\""
     },
     "metadata": {},
     "output_type": "display_data"
    }
   ],
   "source": [
    "# What are the column names?\n"
   ],
   "metadata": {
    "collapsed": false
   }
  },
  {
   "cell_type": "code",
   "execution_count": 16,
   "outputs": [
    {
     "name": "stdout",
     "output_type": "stream",
     "text": [
      "tibble [1,704 × 6] (S3: tbl_df/tbl/data.frame)\n",
      " $ country  : Factor w/ 142 levels \"Afghanistan\",..: 1 1 1 1 1 1 1 1 1 1 ...\n",
      " $ continent: Factor w/ 5 levels \"Africa\",\"Americas\",..: 3 3 3 3 3 3 3 3 3 3 ...\n",
      " $ year     : int [1:1704] 1952 1957 1962 1967 1972 1977 1982 1987 1992 1997 ...\n",
      " $ lifeExp  : num [1:1704] 28.8 30.3 32 34 36.1 ...\n",
      " $ pop      : int [1:1704] 8425333 9240934 10267083 11537966 13079460 14880372 12881816 13867957 16317921 22227415 ...\n",
      " $ gdpPercap: num [1:1704] 779 821 853 836 740 ...\n"
     ]
    }
   ],
   "source": [
    "# What are the data types?\n"
   ],
   "metadata": {
    "collapsed": false
   }
  },
  {
   "cell_type": "code",
   "execution_count": 17,
   "outputs": [
    {
     "data": {
      "text/html": "<table class=\"dataframe\">\n<caption>A tibble: 6 × 6</caption>\n<thead>\n\t<tr><th scope=col>country</th><th scope=col>continent</th><th scope=col>year</th><th scope=col>lifeExp</th><th scope=col>pop</th><th scope=col>gdpPercap</th></tr>\n\t<tr><th scope=col>&lt;fct&gt;</th><th scope=col>&lt;fct&gt;</th><th scope=col>&lt;int&gt;</th><th scope=col>&lt;dbl&gt;</th><th scope=col>&lt;int&gt;</th><th scope=col>&lt;dbl&gt;</th></tr>\n</thead>\n<tbody>\n\t<tr><td>Afghanistan</td><td>Asia</td><td>1952</td><td>28.801</td><td> 8425333</td><td>779.4453</td></tr>\n\t<tr><td>Afghanistan</td><td>Asia</td><td>1957</td><td>30.332</td><td> 9240934</td><td>820.8530</td></tr>\n\t<tr><td>Afghanistan</td><td>Asia</td><td>1962</td><td>31.997</td><td>10267083</td><td>853.1007</td></tr>\n\t<tr><td>Afghanistan</td><td>Asia</td><td>1967</td><td>34.020</td><td>11537966</td><td>836.1971</td></tr>\n\t<tr><td>Afghanistan</td><td>Asia</td><td>1972</td><td>36.088</td><td>13079460</td><td>739.9811</td></tr>\n\t<tr><td>Afghanistan</td><td>Asia</td><td>1977</td><td>38.438</td><td>14880372</td><td>786.1134</td></tr>\n</tbody>\n</table>\n",
      "text/markdown": "\nA tibble: 6 × 6\n\n| country &lt;fct&gt; | continent &lt;fct&gt; | year &lt;int&gt; | lifeExp &lt;dbl&gt; | pop &lt;int&gt; | gdpPercap &lt;dbl&gt; |\n|---|---|---|---|---|---|\n| Afghanistan | Asia | 1952 | 28.801 |  8425333 | 779.4453 |\n| Afghanistan | Asia | 1957 | 30.332 |  9240934 | 820.8530 |\n| Afghanistan | Asia | 1962 | 31.997 | 10267083 | 853.1007 |\n| Afghanistan | Asia | 1967 | 34.020 | 11537966 | 836.1971 |\n| Afghanistan | Asia | 1972 | 36.088 | 13079460 | 739.9811 |\n| Afghanistan | Asia | 1977 | 38.438 | 14880372 | 786.1134 |\n\n",
      "text/latex": "A tibble: 6 × 6\n\\begin{tabular}{llllll}\n country & continent & year & lifeExp & pop & gdpPercap\\\\\n <fct> & <fct> & <int> & <dbl> & <int> & <dbl>\\\\\n\\hline\n\t Afghanistan & Asia & 1952 & 28.801 &  8425333 & 779.4453\\\\\n\t Afghanistan & Asia & 1957 & 30.332 &  9240934 & 820.8530\\\\\n\t Afghanistan & Asia & 1962 & 31.997 & 10267083 & 853.1007\\\\\n\t Afghanistan & Asia & 1967 & 34.020 & 11537966 & 836.1971\\\\\n\t Afghanistan & Asia & 1972 & 36.088 & 13079460 & 739.9811\\\\\n\t Afghanistan & Asia & 1977 & 38.438 & 14880372 & 786.1134\\\\\n\\end{tabular}\n",
      "text/plain": "  country     continent year lifeExp pop      gdpPercap\n1 Afghanistan Asia      1952 28.801   8425333 779.4453 \n2 Afghanistan Asia      1957 30.332   9240934 820.8530 \n3 Afghanistan Asia      1962 31.997  10267083 853.1007 \n4 Afghanistan Asia      1967 34.020  11537966 836.1971 \n5 Afghanistan Asia      1972 36.088  13079460 739.9811 \n6 Afghanistan Asia      1977 38.438  14880372 786.1134 "
     },
     "metadata": {},
     "output_type": "display_data"
    }
   ],
   "source": [
    "# What are the first 6 rows?\n"
   ],
   "metadata": {
    "collapsed": false
   }
  },
  {
   "cell_type": "code",
   "execution_count": 18,
   "outputs": [
    {
     "data": {
      "text/html": "<table class=\"dataframe\">\n<caption>A tibble: 6 × 6</caption>\n<thead>\n\t<tr><th scope=col>country</th><th scope=col>continent</th><th scope=col>year</th><th scope=col>lifeExp</th><th scope=col>pop</th><th scope=col>gdpPercap</th></tr>\n\t<tr><th scope=col>&lt;fct&gt;</th><th scope=col>&lt;fct&gt;</th><th scope=col>&lt;int&gt;</th><th scope=col>&lt;dbl&gt;</th><th scope=col>&lt;int&gt;</th><th scope=col>&lt;dbl&gt;</th></tr>\n</thead>\n<tbody>\n\t<tr><td>Zimbabwe</td><td>Africa</td><td>1982</td><td>60.363</td><td> 7636524</td><td>788.8550</td></tr>\n\t<tr><td>Zimbabwe</td><td>Africa</td><td>1987</td><td>62.351</td><td> 9216418</td><td>706.1573</td></tr>\n\t<tr><td>Zimbabwe</td><td>Africa</td><td>1992</td><td>60.377</td><td>10704340</td><td>693.4208</td></tr>\n\t<tr><td>Zimbabwe</td><td>Africa</td><td>1997</td><td>46.809</td><td>11404948</td><td>792.4500</td></tr>\n\t<tr><td>Zimbabwe</td><td>Africa</td><td>2002</td><td>39.989</td><td>11926563</td><td>672.0386</td></tr>\n\t<tr><td>Zimbabwe</td><td>Africa</td><td>2007</td><td>43.487</td><td>12311143</td><td>469.7093</td></tr>\n</tbody>\n</table>\n",
      "text/markdown": "\nA tibble: 6 × 6\n\n| country &lt;fct&gt; | continent &lt;fct&gt; | year &lt;int&gt; | lifeExp &lt;dbl&gt; | pop &lt;int&gt; | gdpPercap &lt;dbl&gt; |\n|---|---|---|---|---|---|\n| Zimbabwe | Africa | 1982 | 60.363 |  7636524 | 788.8550 |\n| Zimbabwe | Africa | 1987 | 62.351 |  9216418 | 706.1573 |\n| Zimbabwe | Africa | 1992 | 60.377 | 10704340 | 693.4208 |\n| Zimbabwe | Africa | 1997 | 46.809 | 11404948 | 792.4500 |\n| Zimbabwe | Africa | 2002 | 39.989 | 11926563 | 672.0386 |\n| Zimbabwe | Africa | 2007 | 43.487 | 12311143 | 469.7093 |\n\n",
      "text/latex": "A tibble: 6 × 6\n\\begin{tabular}{llllll}\n country & continent & year & lifeExp & pop & gdpPercap\\\\\n <fct> & <fct> & <int> & <dbl> & <int> & <dbl>\\\\\n\\hline\n\t Zimbabwe & Africa & 1982 & 60.363 &  7636524 & 788.8550\\\\\n\t Zimbabwe & Africa & 1987 & 62.351 &  9216418 & 706.1573\\\\\n\t Zimbabwe & Africa & 1992 & 60.377 & 10704340 & 693.4208\\\\\n\t Zimbabwe & Africa & 1997 & 46.809 & 11404948 & 792.4500\\\\\n\t Zimbabwe & Africa & 2002 & 39.989 & 11926563 & 672.0386\\\\\n\t Zimbabwe & Africa & 2007 & 43.487 & 12311143 & 469.7093\\\\\n\\end{tabular}\n",
      "text/plain": "  country  continent year lifeExp pop      gdpPercap\n1 Zimbabwe Africa    1982 60.363   7636524 788.8550 \n2 Zimbabwe Africa    1987 62.351   9216418 706.1573 \n3 Zimbabwe Africa    1992 60.377  10704340 693.4208 \n4 Zimbabwe Africa    1997 46.809  11404948 792.4500 \n5 Zimbabwe Africa    2002 39.989  11926563 672.0386 \n6 Zimbabwe Africa    2007 43.487  12311143 469.7093 "
     },
     "metadata": {},
     "output_type": "display_data"
    }
   ],
   "source": [
    "# What are the last 6 rows?\n"
   ],
   "metadata": {
    "collapsed": false
   }
  },
  {
   "cell_type": "code",
   "execution_count": 26,
   "outputs": [
    {
     "data": {
      "text/html": "<style>\n.list-inline {list-style: none; margin:0; padding: 0}\n.list-inline>li {display: inline-block}\n.list-inline>li:not(:last-child)::after {content: \"\\00b7\"; padding: 0 .5ex}\n</style>\n<ol class=list-inline><li>1952</li><li>1957</li><li>1962</li><li>1967</li><li>1972</li><li>1977</li><li>1982</li><li>1987</li><li>1992</li><li>1997</li><li>2002</li><li>2007</li></ol>\n",
      "text/markdown": "1. 1952\n2. 1957\n3. 1962\n4. 1967\n5. 1972\n6. 1977\n7. 1982\n8. 1987\n9. 1992\n10. 1997\n11. 2002\n12. 2007\n\n\n",
      "text/latex": "\\begin{enumerate*}\n\\item 1952\n\\item 1957\n\\item 1962\n\\item 1967\n\\item 1972\n\\item 1977\n\\item 1982\n\\item 1987\n\\item 1992\n\\item 1997\n\\item 2002\n\\item 2007\n\\end{enumerate*}\n",
      "text/plain": " [1] 1952 1957 1962 1967 1972 1977 1982 1987 1992 1997 2002 2007"
     },
     "metadata": {},
     "output_type": "display_data"
    }
   ],
   "source": [
    "# Return unique values for column year\n"
   ],
   "metadata": {
    "collapsed": false
   }
  },
  {
   "cell_type": "code",
   "execution_count": 27,
   "outputs": [
    {
     "data": {
      "text/html": "<table class=\"dataframe\">\n<caption>A matrix: 3 × 3 of type dbl</caption>\n<thead>\n\t<tr><th></th><th scope=col>lifeExp</th><th scope=col>pop</th><th scope=col>gdpPercap</th></tr>\n</thead>\n<tbody>\n\t<tr><th scope=row>lifeExp</th><td>1.00000000</td><td> 0.06495537</td><td> 0.58370622</td></tr>\n\t<tr><th scope=row>pop</th><td>0.06495537</td><td> 1.00000000</td><td>-0.02559958</td></tr>\n\t<tr><th scope=row>gdpPercap</th><td>0.58370622</td><td>-0.02559958</td><td> 1.00000000</td></tr>\n</tbody>\n</table>\n",
      "text/markdown": "\nA matrix: 3 × 3 of type dbl\n\n| <!--/--> | lifeExp | pop | gdpPercap |\n|---|---|---|---|\n| lifeExp | 1.00000000 |  0.06495537 |  0.58370622 |\n| pop | 0.06495537 |  1.00000000 | -0.02559958 |\n| gdpPercap | 0.58370622 | -0.02559958 |  1.00000000 |\n\n",
      "text/latex": "A matrix: 3 × 3 of type dbl\n\\begin{tabular}{r|lll}\n  & lifeExp & pop & gdpPercap\\\\\n\\hline\n\tlifeExp & 1.00000000 &  0.06495537 &  0.58370622\\\\\n\tpop & 0.06495537 &  1.00000000 & -0.02559958\\\\\n\tgdpPercap & 0.58370622 & -0.02559958 &  1.00000000\\\\\n\\end{tabular}\n",
      "text/plain": "          lifeExp    pop         gdpPercap  \nlifeExp   1.00000000  0.06495537  0.58370622\npop       0.06495537  1.00000000 -0.02559958\ngdpPercap 0.58370622 -0.02559958  1.00000000"
     },
     "metadata": {},
     "output_type": "display_data"
    }
   ],
   "source": [
    "# How are the variables lifeExp, pop and gdpPercap related?\n"
   ],
   "metadata": {
    "collapsed": false
   }
  },
  {
   "cell_type": "code",
   "execution_count": 29,
   "outputs": [
    {
     "data": {
      "text/plain": "   Min. 1st Qu.  Median    Mean 3rd Qu.    Max. \n  23.60   48.20   60.71   59.47   70.85   82.60 "
     },
     "metadata": {},
     "output_type": "display_data"
    }
   ],
   "source": [
    "# What are the summary statistics for the variable lifeExp?\n",
    "summary(gapminder$lifeExp)"
   ],
   "metadata": {
    "collapsed": false
   }
  },
  {
   "cell_type": "markdown",
   "source": [
    "## How can we get another angle at the data"
   ],
   "metadata": {
    "collapsed": false
   }
  },
  {
   "cell_type": "code",
   "execution_count": 2,
   "outputs": [
    {
     "ename": "ERROR",
     "evalue": "Error in gapminder %>% ggplot(aes(x = year, y = lifeExp, color = continent)): could not find function \"%>%\"\n",
     "output_type": "error",
     "traceback": [
      "Error in gapminder %>% ggplot(aes(x = year, y = lifeExp, color = continent)): could not find function \"%>%\"\nTraceback:\n"
     ]
    }
   ],
   "source": [
    "# Visualization of the variable lifeExp over time\n",
    "ggplot(gapminder, aes(x = year, y = lifeExp)) + geom_line()"
   ],
   "metadata": {
    "collapsed": false
   }
  },
  {
   "cell_type": "code",
   "execution_count": 3,
   "outputs": [
    {
     "ename": "ERROR",
     "evalue": "Error in radiant(): could not find function \"radiant\"\n",
     "output_type": "error",
     "traceback": [
      "Error in radiant(): could not find function \"radiant\"\nTraceback:\n"
     ]
    }
   ],
   "source": [
    "# Visualize"
   ],
   "metadata": {
    "collapsed": false
   }
  }
 ],
 "metadata": {
  "kernelspec": {
   "name": "ir",
   "language": "R",
   "display_name": "R"
  },
  "language_info": {
   "codemirror_mode": "r",
   "file_extension": ".r",
   "mimetype": "text/x-r-source",
   "name": "R",
   "pygments_lexer": "r",
   "version": "4.2.2"
  }
 },
 "nbformat": 4,
 "nbformat_minor": 1
}
